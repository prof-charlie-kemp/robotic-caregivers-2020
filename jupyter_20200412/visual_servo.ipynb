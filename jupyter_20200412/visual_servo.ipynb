{
 "cells": [
  {
   "cell_type": "markdown",
   "metadata": {},
   "source": [
    "# Simple Model of 2D Visual Servoing"
   ]
  },
  {
   "cell_type": "markdown",
   "metadata": {},
   "source": [
    "Sensory servoing is an often underappreciated method of making robots operate effectively in the real world. This example demonstrates that visual servoing can handle extreme mismatches between the space in which the error is calculated and the output space in which the error is used to command the robot to move. "
   ]
  },
  {
   "cell_type": "code",
   "execution_count": 3,
   "metadata": {},
   "outputs": [],
   "source": [
    "import matplotlib\n",
    "from ipywidgets import interactive, fixed"
   ]
  },
  {
   "cell_type": "markdown",
   "metadata": {},
   "source": [
    "view_deg is an unknown rotation between the robot's view of its hand position and the target position relative to its\n",
    "\n",
    "output space (2D actuator motions).\n",
    "\n",
    "gain is the proportional feedback gain.\n",
    "\n",
    "hand_start_x and hand_start_y specify where the robot's hand starts relative to the target at 0.0, 0.0. \n"
   ]
  },
  {
   "cell_type": "code",
   "execution_count": 4,
   "metadata": {},
   "outputs": [
    {
     "data": {
      "application/vnd.jupyter.widget-view+json": {
       "model_id": "0089ea0ff31748b5b9bca550d1fa3518",
       "version_major": 2,
       "version_minor": 0
      },
      "text/plain": [
       "interactive(children=(FloatSlider(value=0.0, description='view_deg', max=180.0, min=-180.0), FloatSlider(value…"
      ]
     },
     "metadata": {},
     "output_type": "display_data"
    }
   ],
   "source": [
    "from visual_servo import plot_servo\n",
    "w=interactive(plot_servo, view_deg=(-180.0,180.0), gain=(0.0,2.0), hand_start_x=(-10.0,10.0), hand_start_y=(-10.0,10.0))\n",
    "w"
   ]
  },
  {
   "cell_type": "code",
   "execution_count": null,
   "metadata": {},
   "outputs": [],
   "source": []
  }
 ],
 "metadata": {
  "kernelspec": {
   "display_name": "Python 3",
   "language": "python",
   "name": "python3"
  },
  "language_info": {
   "codemirror_mode": {
    "name": "ipython",
    "version": 3
   },
   "file_extension": ".py",
   "mimetype": "text/x-python",
   "name": "python",
   "nbconvert_exporter": "python",
   "pygments_lexer": "ipython3",
   "version": "3.7.6"
  }
 },
 "nbformat": 4,
 "nbformat_minor": 4
}
